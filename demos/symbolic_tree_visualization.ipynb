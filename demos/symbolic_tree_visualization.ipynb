{
 "cells": [
  {
   "cell_type": "markdown",
   "metadata": {},
   "source": [
    "# FRACKTAL: Symbolic Tree Visualization\n",
    "\n",
    "## Interactive Visualization of Recursive Symbolic Ontology Trees\n",
    "\n",
    "This notebook demonstrates how FRACKTAL creates and visualizes its recursive symbolic ontology trees."
   ]
  },
  {
   "cell_type": "code",
   "execution_count": null,
   "metadata": {},
   "outputs": [],
   "source": [
    "# Import FRACKTAL\n",
    "import sys\n",
    "sys.path.append('..')\n",
    "\n",
    "from fracktal import RecursiveFRSOE\n",
    "import numpy as np\n",
    "import matplotlib.pyplot as plt\n",
    "import networkx as nx\n",
    "\n",
    "print(\"✅ FRACKTAL imported successfully!\")"
   ]
  },
  {
   "cell_type": "code",
   "execution_count": null,
   "metadata": {},
   "outputs": [],
   "source": [
    "# Create sample data\n",
    "sample_data = {\n",
    "    'repetitive': 'Hello World! Hello World! Hello World!',\n",
    "    'structured': 'Name: John, Age: 30, City: NYC, Name: Jane, Age: 25, City: LA',\n",
    "    'code': 'def function(): return True; def function(): return True'\n",
    "}\n",
    "\n",
    "print(\"📊 Sample data created:\")\n",
    "for name, data in sample_data.items():\n",
    "    print(f\"   {name}: {len(data)} characters\")"
   ]
  },
  {
   "cell_type": "code",
   "execution_count": null,
   "metadata": {},
   "outputs": [],
   "source": [
    "# Initialize FRACKTAL and process data\n",
    "fracktal = RecursiveFRSOE(hash_depth=3, symbol_range=5000)\n",
    "\n",
    "trees = {}\n",
    "for name, data in sample_data.items():\n",
    "    print(f\"\\n🌳 Processing {name}...\")\n",
    "    compressed_result = fracktal.compress(data)\n",
    "    symbolic_tree = compressed_result['codex_map']['symbolic_tree']\n",
    "    trees[name] = symbolic_tree\n",
    "    \n",
    "    print(f\"   📏 Original: {len(data)} characters\")\n",
    "    print(f\"   🌿 Tree nodes: {symbolic_tree.node_count}\")\n",
    "    print(f\"   📊 Max depth: {symbolic_tree.max_depth}\")\n",
    "    print(f\"   🔗 Root nodes: {len(symbolic_tree.root_nodes)}\")"
   ]
  },
  {
   "cell_type": "code",
   "execution_count": null,
   "metadata": {},
   "outputs": [],
   "source": [
    "# Create tree visualizations\n",
    "def visualize_tree(tree, title):\n",
    "    G = nx.DiGraph()\n",
    "    \n",
    "    # Add nodes and edges\n",
    "    for symbol, data in tree.nodes.items():\n",
    "        G.add_node(symbol, **data)\n",
    "        if data.get('link'):\n",
    "            G.add_edge(data['link'], symbol)\n",
    "    \n",
    "    # Calculate layout\n",
    "    pos = nx.spring_layout(G, k=2, iterations=50)\n",
    "    \n",
    "    # Create visualization\n",
    "    plt.figure(figsize=(10, 8))\n",
    "    nx.draw(G, pos, with_labels=True, node_color='lightblue', \n",
    "            node_size=1000, font_size=8, font_weight='bold',\n",
    "            arrows=True, edge_color='gray', arrowsize=20)\n",
    "    plt.title(title)\n",
    "    plt.show()\n",
    "\n",
    "print(\"🎨 Creating tree visualizations...\")\n",
    "for name, tree in trees.items():\n",
    "    print(f\"\\n🌳 Visualizing {name} tree...\")\n",
    "    visualize_tree(tree, f\"{name.title()} - Symbolic Tree\")\n",
    "    \n",
    "    # Show tree statistics\n",
    "    print(f\"   📊 Tree Statistics:\")\n",
    "    print(f\"      Nodes: {tree.node_count}\")\n",
    "    print(f\"      Max Depth: {tree.max_depth}\")\n",
    "    print(f\"      Root Nodes: {len(tree.root_nodes)}\")"
   ]
  },
  {
   "cell_type": "markdown",
   "metadata": {},
   "source": [
    "## Key Insights\n",
    "\n",
    "🌳 **Tree Structure Patterns**:\n",
    "- **Repetitive data** creates shallow, wide trees with many root nodes\n",
    "- **Structured data** creates deeper trees with clear hierarchical patterns\n",
    "- **Code-like data** creates complex trees with multiple branches\n",
    "\n",
    "🔍 **Symbolic Intelligence**:\n",
    "- FRACKTAL automatically identifies meaningful patterns\n",
    "- Tree depth reflects data complexity\n",
    "- Root nodes represent unique semantic units\n",
    "\n",
    "**FRACKTAL**: Where data becomes visual intelligence! 🌳✨"
   ]
  }
 ],
 "metadata": {
  "kernelspec": {
   "display_name": "Python 3",
   "language": "python",
   "name": "python3"
  },
  "language_info": {
   "codemirror_mode": {
    "name": "ipython",
    "version": 3
   },
   "file_extension": ".py",
   "mimetype": "text/x-python",
   "name": "python",
   "nbconvert_exporter": "python",
   "pygments_lexer": "ipython3",
   "version": "3.8.5"
  }
 },
 "nbformat": 4,
 "nbformat_minor": 4
}